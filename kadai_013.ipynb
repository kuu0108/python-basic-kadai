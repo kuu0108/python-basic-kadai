{
  "nbformat": 4,
  "nbformat_minor": 0,
  "metadata": {
    "colab": {
      "provenance": [],
      "authorship_tag": "ABX9TyPuEBZuHDQfh0JtlM4NivbO",
      "include_colab_link": true
    },
    "kernelspec": {
      "name": "python3",
      "display_name": "Python 3"
    },
    "language_info": {
      "name": "python"
    }
  },
  "cells": [
    {
      "cell_type": "markdown",
      "metadata": {
        "id": "view-in-github",
        "colab_type": "text"
      },
      "source": [
        "<a href=\"https://colab.research.google.com/github/kuu0108/python-basic-kadai/blob/main/kadai_013.ipynb\" target=\"_parent\"><img src=\"https://colab.research.google.com/assets/colab-badge.svg\" alt=\"Open In Colab\"/></a>"
      ]
    },
    {
      "cell_type": "code",
      "execution_count": 2,
      "metadata": {
        "colab": {
          "base_uri": "https://localhost:8080/"
        },
        "id": "-q3sdL3Hvlhh",
        "outputId": "870b77ff-fb65-4072-dd34-d3d56939ab35"
      },
      "outputs": [
        {
          "output_type": "stream",
          "name": "stdout",
          "text": [
            "1100.0円\n"
          ]
        }
      ],
      "source": [
        "# 商品購入時の消費税を、関数で計算するプログラムのソースコードを作成して提出してください。\n",
        "#以下のヒントを参考にして、プログラムを作成してください。\n",
        "\n",
        "# 消費税を加えた計算結果を返す関数を記述する\n",
        "# 「結果を返す関数」なので戻り値を使用する\n",
        "# 第1引数に商品の金額、第2引数に消費税（10%）を設定する\n",
        "\n",
        "\n",
        "# 合格基準\n",
        "# 1\t「課題の内容」の仕様通りの関数が定義されている\n",
        "# 2\t定義した関数を呼び出し、使用されている\n",
        "# 3\t戻り値で計算結果を返していること\n",
        "# 4\t引数が適切に設定できていること\n",
        "\n",
        "def calculate_total(zeinuki_price):\n",
        "   # 与えられた引数zeinuki_priceに税率をかけて、変数total_priceに代入する\n",
        "    total_price = zeinuki_price*1.1\n",
        "\n",
        " # 変数total_priceの値を出力する\n",
        "    print(f\"{total_price}円\")\n",
        "\n",
        "calculate_total(1000)\n",
        "\n"
      ]
    }
  ]
}