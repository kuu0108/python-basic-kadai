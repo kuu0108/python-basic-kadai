{
  "nbformat": 4,
  "nbformat_minor": 0,
  "metadata": {
    "colab": {
      "provenance": []
    },
    "kernelspec": {
      "name": "python3",
      "display_name": "Python 3"
    },
    "language_info": {
      "name": "python"
    }
  },
  "cells": [
    {
      "cell_type": "code",
      "execution_count": 3,
      "metadata": {
        "id": "p4SAyiggQGIo",
        "colab": {
          "base_uri": "https://localhost:8080/"
        },
        "outputId": "2712865e-6588-4511-9253-9e710d3da631"
      },
      "outputs": [
        {
          "output_type": "stream",
          "name": "stdout",
          "text": [
            "水曜日は晴れです\n"
          ]
        }
      ],
      "source": [
        "array = [\"月曜日は晴れです\", \"火曜日は雨です\", \"水曜日は晴れです\", \"木曜日は晴れです\", \"金曜日は曇りです\", \"土曜日は曇りのち雨です\", \"日曜日は雷雨です\"]\n",
        "print(array[2])\n"
      ]
    },
    {
      "cell_type": "code",
      "source": [
        "dictionary = {\"mon\":\"晴れ\", \"tue\":\"雨\", \"wed\":\"晴れ\", \"thu\":\"晴れ\", \"fri\":\"曇り\", \"sat\":\"曇りのち雨\", \"sun\":\"雷雨\"}\n",
        "print(dictionary[\"wed\"])"
      ],
      "metadata": {
        "colab": {
          "base_uri": "https://localhost:8080/"
        },
        "id": "waqw-BmARu3v",
        "outputId": "58746ec2-1fc1-4cb0-84c2-e3798f22bed0"
      },
      "execution_count": 4,
      "outputs": [
        {
          "output_type": "stream",
          "name": "stdout",
          "text": [
            "晴れ\n"
          ]
        }
      ]
    }
  ]
}