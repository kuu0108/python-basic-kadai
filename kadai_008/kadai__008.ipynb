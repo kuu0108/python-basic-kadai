{
  "nbformat": 4,
  "nbformat_minor": 0,
  "metadata": {
    "colab": {
      "provenance": []
    },
    "kernelspec": {
      "name": "python3",
      "display_name": "Python 3"
    },
    "language_info": {
      "name": "python"
    }
  },
  "cells": [
    {
      "cell_type": "code",
      "execution_count": 25,
      "metadata": {
        "colab": {
          "base_uri": "https://localhost:8080/"
        },
        "id": "1Ck8rFNWXrHm",
        "outputId": "69e82ddc-8e2b-4f0c-d985-cbe2be44386c"
      },
      "outputs": [
        {
          "output_type": "stream",
          "name": "stdout",
          "text": [
            "62\n"
          ]
        }
      ],
      "source": [
        "# if文を用いて、以下の条件分岐をするコードを記述する。値はprint関数で出力する。\n",
        "# 変数varが、3の倍数の場合は「Fizz」を出力\n",
        "# 変数varが、5の倍数の場合は「Buzz」を出力\n",
        "# 変数varが、3の倍数と5の倍数の両方に該当する場合は「FizzBuzz」を出力\n",
        "# 上記のどの場合にも該当しない場合は、変数varの値を出力\n",
        "# ただし、変数varは正の整数\n",
        "\n",
        "var = random.randint(1, 100)\n",
        "\n",
        "if var % 3 == 0 and var % 5 == 0:\n",
        "    print(\"FizzBuzz\")\n",
        "\n",
        "elif var % 3 == 0:\n",
        "    print(\"Fizz\")\n",
        "\n",
        "elif var % 5 == 0:\n",
        "    print(\"Buzz\")\n",
        "\n",
        "else:\n",
        "    print(var)"
      ]
    }
  ]
}