{
  "nbformat": 4,
  "nbformat_minor": 0,
  "metadata": {
    "colab": {
      "provenance": []
    },
    "kernelspec": {
      "name": "python3",
      "display_name": "Python 3"
    },
    "language_info": {
      "name": "python"
    }
  },
  "cells": [
    {
      "cell_type": "code",
      "source": [
        "top_base = 10  # cm\n",
        "bottom_base = 20  # cm\n",
        "height = 5  # cm\n",
        "\n",
        "# 台形の面積の計算\n",
        "area = (top_base + bottom_base) * height / 2\n",
        "\n",
        "#結果の出力\n",
        "print(f\"台形の面積:{area} ㎠\")"
      ],
      "metadata": {
        "colab": {
          "base_uri": "https://localhost:8080/"
        },
        "id": "hdLGH8DJHZcB",
        "outputId": "01af43b6-9647-47af-acec-cd97396b3b54"
      },
      "execution_count": 7,
      "outputs": [
        {
          "output_type": "stream",
          "name": "stdout",
          "text": [
            "台形の面積:75.0 ㎠\n"
          ]
        }
      ]
    }
  ]
}