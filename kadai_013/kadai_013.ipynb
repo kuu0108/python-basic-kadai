{
  "nbformat": 4,
  "nbformat_minor": 0,
  "metadata": {
    "colab": {
      "provenance": []
    },
    "kernelspec": {
      "name": "python3",
      "display_name": "Python 3"
    },
    "language_info": {
      "name": "python"
    }
  },
  "cells": [
    {
      "cell_type": "code",
      "source": [
        "# 商品購入時の消費税を、関数で計算するプログラムのソースコードを作成して提出してください。\n",
        "#以下のヒントを参考にして、プログラムを作成してください。\n",
        "\n",
        "# 消費税を加えた計算結果を返す関数を記述する\n",
        "# 「結果を返す関数」なので戻り値を使用する\n",
        "# 第1引数に商品の金額、第2引数に消費税（10%）を設定する\n",
        "\n",
        "\n",
        "# 合格基準\n",
        "# 1\t「課題の内容」の仕様通りの関数が定義されている\n",
        "# 2\t定義した関数を呼び出し、使用されている\n",
        "# 3\t戻り値で計算結果を返していること\n",
        "# 4\t引数が適切に設定できていること\n",
        "\n",
        "def calc_total(hontai,zei):\n",
        "  return hontai + hontai * zei\n",
        "\n",
        "result = calc_total(1000,0.1)\n",
        "\n",
        "print(result)"
      ],
      "metadata": {
        "colab": {
          "base_uri": "https://localhost:8080/"
        },
        "id": "R6tqdjNcGITO",
        "outputId": "62073c6e-185a-4cb6-fe02-7f2b0526891f"
      },
      "execution_count": 16,
      "outputs": [
        {
          "output_type": "stream",
          "name": "stdout",
          "text": [
            "1100.0\n"
          ]
        }
      ]
    }
  ]
}