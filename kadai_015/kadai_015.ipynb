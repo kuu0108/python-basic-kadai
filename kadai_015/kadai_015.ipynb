{
  "nbformat": 4,
  "nbformat_minor": 0,
  "metadata": {
    "colab": {
      "provenance": []
    },
    "kernelspec": {
      "name": "python3",
      "display_name": "Python 3"
    },
    "language_info": {
      "name": "python"
    }
  },
  "cells": [
    {
      "cell_type": "code",
      "execution_count": 1,
      "metadata": {
        "id": "B1Rfy5yD8GdN",
        "colab": {
          "base_uri": "https://localhost:8080/"
        },
        "outputId": "ad392220-c998-469a-9f36-3806f72f64c6"
      },
      "outputs": [
        {
          "output_type": "stream",
          "name": "stdout",
          "text": [
            "Name:kuu,Age:30\n"
          ]
        }
      ],
      "source": [
        "#名前(name)と年齢(age)の属性を持つHumanクラスを作成してください。\n",
        "#nameとageを標準出力(print)するメソッド(printinfo)を追加してください。\n",
        "#Humanクラスのインスタンスは、変数に代入してプログラム内で使用してください。\n",
        "\n",
        "class Human:\n",
        "  def __init__(self, name, age):\n",
        "    self.name = name\n",
        "    self.age = age\n",
        "\n",
        "  #メソッドを定義する\n",
        "  def printinfo(self):\n",
        "    print(f\"Name:{self.name},Age:{self.age}\")\n",
        "\n",
        "  # インスタンスを作成し、変数に代入\n",
        "person = Human(\"kuu\", 41)\n",
        "\n",
        "  # 変数を使ってメソッドを呼び出す\n",
        "person.printinfo()\n"
      ]
    },
    {
      "cell_type": "code",
      "source": [
        "\n"
      ],
      "metadata": {
        "id": "yp-gHcqI8L6z"
      },
      "execution_count": null,
      "outputs": []
    }
  ]
}