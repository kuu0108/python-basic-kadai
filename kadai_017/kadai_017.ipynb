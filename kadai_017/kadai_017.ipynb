{
  "nbformat": 4,
  "nbformat_minor": 0,
  "metadata": {
    "colab": {
      "provenance": []
    },
    "kernelspec": {
      "name": "python3",
      "display_name": "Python 3"
    },
    "language_info": {
      "name": "python"
    }
  },
  "cells": [
    {
      "cell_type": "code",
      "execution_count": 5,
      "metadata": {
        "colab": {
          "base_uri": "https://localhost:8080/"
        },
        "id": "Hbdr9ma9ec2W",
        "outputId": "8cfdc67e-839a-4d51-d3c3-245855ef6f6a"
      },
      "outputs": [
        {
          "output_type": "stream",
          "name": "stdout",
          "text": [
            "Daisukeさんは大人です。\n",
            "Mayumiさんは大人です。\n",
            "Jinさんは大人ではありません。\n"
          ]
        }
      ],
      "source": [
        "# 名前(name)と年齢(age)の属性を持つHumanクラスを作成してください。\n",
        "\n",
        "# Humanクラスには、以下の条件で標準出力(print)するcheck_adultメソッドを追加してください。\n",
        "\n",
        "# ageが20以上の場合に大人であること\n",
        "# そうでない場合に大人でないこと\n",
        "# Humanクラスのインスタンスを複数生成してリストに追加し、リストの要素数分だけcheck_adultメソッドを呼び出してください。\n",
        "\n",
        "# 番号\t合格基準\n",
        "# 1\t本教材で学習した「リスト・ディクショナリ」「条件分岐」「繰り返し処理」「関数」「変数のスコープ」「クラス」を用いて、「課題の内容」の仕様通りのプログラムが記述されている\n",
        "\n",
        "\n",
        "\n",
        "# クラスを定義する\n",
        "class Human:\n",
        "\n",
        "\n",
        "# コンストラクタ: def __init__(self):〜\n",
        "# Humanクラスのインスタンス（人）を作るときに自動的に最初に呼ばれる関数\n",
        "# 名前(name)と年齢(age)を指定して、インスタンスの情報を決める\n",
        "  def __init__(self,name,age):\n",
        "\n",
        "# self.~~~は全てこのインスタンスの属性になる\n",
        "\n",
        "# selfを使って属性を定義する\n",
        "    self.name = name  # インスタンス(人)のname属性\n",
        "    self.age = age    # インスタンス(人)のage属性\n",
        "\n",
        "# 年齢による大人判定（check_adult）メソッド：人が大人かどうかをチェックして、結果を教える\n",
        "  def check_adult(self):  # インスタンスメソッド。selfを使ってインスタンスにアクセスする\n",
        "    if self.age >= 20:    # self.ageを使う\n",
        "      print(f\"{self.name}さんは大人です。\")\n",
        "    else:\n",
        "      print(f\"{self.name}さんは大人ではありません。\")\n",
        "\n",
        "# Humanクラスのインスタンスを複数生成\n",
        "# リストhuman_instanceに人を追加\n",
        "\n",
        "human_instance = [\n",
        "    Human(\"Daisuke\", 46),\n",
        "    Human(\"Mayumi\", 41),\n",
        "    Human(\"Jin\", 10),\n",
        "]\n",
        "\n",
        "# リストの要素数分だけcheck_adultメソッドを呼び出し\n",
        "# リストに入っている人たち全員に対して、大人かどうかをチェック\n",
        "for person in human_instance:  # リストhuman_instanceにいる人を一人ずつ取り出す\n",
        "    person.check_adult() # それぞれの人が大人かどうかをcheck_adultメソッドで調べる\n",
        "\n",
        ""
      ]
    },
    {
      "cell_type": "code",
      "source": [],
      "metadata": {
        "id": "dYKYAyoOfZUd"
      },
      "execution_count": null,
      "outputs": []
    }
  ]
}